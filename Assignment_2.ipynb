{
 "cells": [
  {
   "cell_type": "code",
   "execution_count": null,
   "id": "b9a4632c-9f42-464c-a408-a3b881b285ed",
   "metadata": {},
   "outputs": [],
   "source": [
    "# Task 1 > Create Arrays & View Properties"
   ]
  },
  {
   "cell_type": "code",
   "execution_count": 15,
   "id": "3f310c8e-18fc-4339-8b8a-bf2ab3448cf9",
   "metadata": {},
   "outputs": [
    {
     "name": "stdout",
     "output_type": "stream",
     "text": [
      "[ 1  2  3  4  5  6  7  8  9 10]\n",
      "---------------------------------------------------\n",
      "[[1 2 3]\n",
      " [4 5 6]\n",
      " [7 8 9]]\n",
      "---------------------------------------------------\n",
      "[[[0.18224963 0.48916525 0.75691821]\n",
      "  [0.43941379 0.2171251  0.89082228]]\n",
      "\n",
      " [[0.11658513 0.69326258 0.50666303]\n",
      "  [0.07210537 0.89421195 0.68683867]]\n",
      "\n",
      " [[0.87791325 0.82474714 0.99724774]\n",
      "  [0.2104392  0.70652139 0.01532295]]]\n",
      "---------------------------------------------------\n",
      "1D - Shape: (10,) Size: 10 Dtype: int32\n",
      "2D - Shape: (3, 3) Size: 9 Dtype: int32\n",
      "3D - Shape: (3, 2, 3) Size: 18 Dtype: float64\n"
     ]
    }
   ],
   "source": [
    "import numpy as np\n",
    "\n",
    "\n",
    "arr = np.arange(1, 11)\n",
    "print(arr)\n",
    "print(\"---------------------------------------------------\")\n",
    "\n",
    "arr2 = np.arange(1, 10).reshape(3, 3)\n",
    "print(arr2)\n",
    "print(\"---------------------------------------------------\")\n",
    "\n",
    "\n",
    "arr3 = np.random.rand(3, 2, 3)\n",
    "print(arr3)\n",
    "print(\"---------------------------------------------------\")\n",
    "\n",
    "\n",
    "print(\"1D - Shape:\", arr.shape, \"Size:\", arr.size, \"Dtype:\", arr.dtype)\n",
    "print(\"2D - Shape:\", arr2.shape, \"Size:\", arr2.size, \"Dtype:\", arr2.dtype)\n",
    "print(\"3D - Shape:\", arr3.shape, \"Size:\", arr3.size, \"Dtype:\", arr3.dtype)\n",
    "     \n"
   ]
  },
  {
   "cell_type": "code",
   "execution_count": null,
   "id": "35c2fff6-6270-4e28-b4f5-b271d45a0837",
   "metadata": {},
   "outputs": [],
   "source": [
    "# task 2 > Slice and Reverse Arrays"
   ]
  },
  {
   "cell_type": "code",
   "execution_count": 16,
   "id": "ffb4a873-bd8f-4cc9-8a8b-3574a8c0dfc0",
   "metadata": {},
   "outputs": [
    {
     "name": "stdout",
     "output_type": "stream",
     "text": [
      "First 3: [10 20 30]\n",
      "Alternate: [10 30 50 70 90]\n",
      "Reversed: [90 80 70 60 50 40 30 20 10]\n"
     ]
    }
   ],
   "source": [
    "import numpy as np\n",
    "\n",
    "data = [10, 20, 30, 40, 50, 60, 70, 80, 90]\n",
    "arr = np.array(data)\n",
    "\n",
    "print(\"First 3:\", arr[:3])\n",
    "print(\"Alternate:\", arr[::2])\n",
    "print(\"Reversed:\", arr[::-1])\n"
   ]
  },
  {
   "cell_type": "code",
   "execution_count": null,
   "id": "655d40a2-37c5-4dcd-a8a6-7721ead71d6e",
   "metadata": {},
   "outputs": [],
   "source": [
    " # Task 3 > Array Operations"
   ]
  },
  {
   "cell_type": "code",
   "execution_count": 25,
   "id": "65c5d5cb-c9a5-4eae-8833-d00aae819e5e",
   "metadata": {},
   "outputs": [
    {
     "name": "stdout",
     "output_type": "stream",
     "text": [
      "A: [ 2  2  7 11 13]\n",
      "B: [1 7 3 9 5]\n",
      "---------------------------------------------------\n",
      "Add: [ 3  9 10 20 18]\n",
      "Sub: [ 1 -5  4  2  8]\n",
      "Mul: [ 2 14 21 99 65]\n",
      "Div: [2.         0.28571429 2.33333333 1.22222222 2.6       ]\n",
      "---------------------------------------------------\n",
      "Dot: 201\n",
      "---------------------------------------------------\n",
      "Mean: 7.0\n",
      "Median: 7.0\n",
      "Std: 4.516635916254486\n",
      "Var: 20.4\n",
      "---------------------------------------------------\n",
      "Max B: 9 at 3\n",
      "Min B: 1 at 0\n"
     ]
    }
   ],
   "source": [
    "import numpy as np\n",
    "\n",
    "A = np.random.randint(1, 21, 5)\n",
    "B = np.random.randint(1, 21, 5)\n",
    "\n",
    "print(\"A:\", A)\n",
    "print(\"B:\", B)\n",
    "print(\"---------------------------------------------------\")\n",
    "\n",
    "print(\"Add:\", A + B)\n",
    "print(\"Sub:\", A - B)\n",
    "print(\"Mul:\", A * B)\n",
    "print(\"Div:\", A / B)\n",
    "print(\"---------------------------------------------------\")\n",
    "\n",
    "print(\"Dot:\", np.dot(A, B))\n",
    "print(\"---------------------------------------------------\")\n",
    "\n",
    "print(\"Mean:\", np.mean(A))\n",
    "print(\"Median:\", np.median(A))\n",
    "print(\"Std:\", np.std(A))\n",
    "print(\"Var:\", np.var(A))\n",
    "print(\"---------------------------------------------------\")\n",
    "\n",
    "print(\"Max B:\", np.max(B), \"at\", np.argmax(B))\n",
    "print(\"Min B:\", np.min(B), \"at\", np.argmin(B))\n"
   ]
  },
  {
   "cell_type": "code",
   "execution_count": null,
   "id": "b3c22d5e-f577-433f-814f-714801d42910",
   "metadata": {},
   "outputs": [],
   "source": [
    "# Task 4 > Reshape and Transpose"
   ]
  },
  {
   "cell_type": "code",
   "execution_count": 26,
   "id": "a442e5e3-904b-49e8-8b8d-063a3d1184b9",
   "metadata": {},
   "outputs": [
    {
     "name": "stdout",
     "output_type": "stream",
     "text": [
      "2D (4x3):\n",
      " [[ 1  2  3]\n",
      " [ 4  5  6]\n",
      " [ 7  8  9]\n",
      " [10 11 12]]\n",
      "---------------------------------------------------\n",
      "3D (2x2x3):\n",
      " [[[ 1  2  3]\n",
      "  [ 4  5  6]]\n",
      "\n",
      " [[ 7  8  9]\n",
      "  [10 11 12]]]\n",
      "---------------------------------------------------\n",
      "Transposed:\n",
      " [[ 1  4  7 10]\n",
      " [ 2  5  8 11]\n",
      " [ 3  6  9 12]]\n",
      "Shape: (3, 4)\n"
     ]
    }
   ],
   "source": [
    "import numpy as np\n",
    "\n",
    "arr = np.arange(1, 13)\n",
    "\n",
    "# Reshape\n",
    "arr_2d = arr.reshape(4, 3)\n",
    "print(\"2D (4x3):\\n\", arr_2d)\n",
    "print(\"---------------------------------------------------\")\n",
    "\n",
    "# 3D reshaping\n",
    "arr_3d = arr.reshape(2, 2, 3)\n",
    "print(\"3D (2x2x3):\\n\", arr_3d)\n",
    "print(\"---------------------------------------------------\")\n",
    "\n",
    "# Transpose\n",
    "print(\"Transposed:\\n\", arr_2d.T)\n",
    "print(\"Shape:\", arr_2d.T.shape)\n"
   ]
  },
  {
   "cell_type": "code",
   "execution_count": null,
   "id": "ea215943-138b-41f4-a8d6-ee9434daf4f0",
   "metadata": {},
   "outputs": [],
   "source": [
    "# Task 5 > replace , filter , count"
   ]
  },
  {
   "cell_type": "code",
   "execution_count": 27,
   "id": "382248e9-a967-402e-9e81-41c2eb54cd53",
   "metadata": {},
   "outputs": [
    {
     "name": "stdout",
     "output_type": "stream",
     "text": [
      "Original: [27 34 41 21 34 37 48 45 14 30 41 30 25 40 34]\n",
      "---------------------------------------------------\n",
      ">20: [27 34 41 21 34 37 48 45 30 41 30 25 40 34]\n",
      "---------------------------------------------------\n",
      "Replaced: [27 34 41 21 34 37 48 45  0 30 41 30 25 40 34]\n",
      "---------------------------------------------------\n",
      "Div by 5: 6\n"
     ]
    }
   ],
   "source": [
    "import numpy as np\n",
    "\n",
    "arr = np.random.randint(10, 51, 15)\n",
    "\n",
    "print(\"Original:\", arr)\n",
    "print(\"---------------------------------------------------\")\n",
    "\n",
    "print(\">20:\", arr[arr > 20])\n",
    "print(\"---------------------------------------------------\")\n",
    "\n",
    "arr[arr < 20] = 0\n",
    "print(\"Replaced:\", arr)\n",
    "print(\"---------------------------------------------------\")\n",
    "\n",
    "print(\"Div by 5:\", np.sum(arr % 5 == 0))\n"
   ]
  },
  {
   "cell_type": "code",
   "execution_count": null,
   "id": "71a5755b-ad1e-4da9-81f0-a41d26731c09",
   "metadata": {},
   "outputs": [],
   "source": [
    "# Task 6 > Built-in Functions"
   ]
  },
  {
   "cell_type": "code",
   "execution_count": 33,
   "id": "bd9366b3-39f3-4666-ae1e-30bd3af601bf",
   "metadata": {},
   "outputs": [
    {
     "name": "stdout",
     "output_type": "stream",
     "text": [
      "Linspace: [0.         0.11111111 0.22222222 0.33333333 0.44444444 0.55555556\n",
      " 0.66666667 0.77777778 0.88888889 1.        ]\n",
      "---------------------------------------------------\n",
      "Identity:\n",
      " [[1. 0. 0. 0.]\n",
      " [0. 1. 0. 0.]\n",
      " [0. 0. 1. 0.]\n",
      " [0. 0. 0. 1.]]\n",
      "---------------------------------------------------\n",
      "org:  [ 2 21  3 20 42 35 45  8 42 26 42 41 24 36 46 46 37 24 33 48]\n",
      "Sorted: [ 2  3  8 20 21 24 24 26 33 35 36 37 41 42 42 42 45 46 46 48]\n",
      "Top 5: [48 46 46 45 42]\n"
     ]
    }
   ],
   "source": [
    "import numpy as np\n",
    "\n",
    "# Linspace\n",
    "print(\"Linspace:\", np.linspace(0, 1, 10))\n",
    "print(\"---------------------------------------------------\")\n",
    "\n",
    "# Identity matrix\n",
    "print(\"Identity:\\n\", np.eye(4))\n",
    "print(\"---------------------------------------------------\")\n",
    "\n",
    "arr = np.random.randint(1, 51, 20)\n",
    "print(\"org: \",arr)\n",
    "sorted_arr = np.sort(arr)\n",
    "print(\"Sorted:\", sorted_arr)\n",
    "print(\"Top 5:\", sorted_arr[-5:][::-1])\n"
   ]
  },
  {
   "cell_type": "code",
   "execution_count": null,
   "id": "5c5d2cf3-7590-4e63-a55f-2eaf1fd1d5c1",
   "metadata": {},
   "outputs": [],
   "source": [
    "# Task 7 > Matrix"
   ]
  },
  {
   "cell_type": "code",
   "execution_count": 39,
   "id": "82333463-85bd-4146-a218-741d398f8bbc",
   "metadata": {},
   "outputs": [
    {
     "name": "stdout",
     "output_type": "stream",
     "text": [
      "Matrix shape: (10, 10)\n",
      "Determinant: -0.0001929601867507781\n",
      "[[-2.20370835e+00 -7.14154939e+00 -1.33819180e+00  7.82785658e-01\n",
      "  -5.29719276e+00  5.45505002e+00  1.83853049e+00  4.97705749e-02\n",
      "   8.82274090e+00  1.91652372e+00]\n",
      " [ 2.23593348e-02 -7.42180564e+00 -1.41846896e+00  6.15764832e-01\n",
      "  -5.94578099e+00  3.34425880e+00  4.81088741e+00 -3.26717270e+00\n",
      "   7.28913804e+00  4.72079870e+00]\n",
      " [ 1.22357271e+00  2.70668261e+01  3.19042773e+00 -1.56114015e+00\n",
      "   2.17179808e+01 -1.86137724e+01 -9.54102976e+00  5.96935338e+00\n",
      "  -3.07366932e+01 -8.40615357e+00]\n",
      " [ 2.40948321e+00 -1.25981679e+01 -2.01089249e+00 -1.14092470e+00\n",
      "  -1.12336324e+01  9.35612634e+00  6.01169172e+00 -3.50142341e+00\n",
      "   1.47584410e+01  2.74651165e+00]\n",
      " [ 5.67666012e+00  2.89488126e+01  4.37714014e+00 -3.75060081e+00\n",
      "   2.49656939e+01 -1.81313695e+01 -1.35448981e+01  5.46331510e+00\n",
      "  -3.20951339e+01 -1.29621780e+01]\n",
      " [-4.73953159e+00 -3.16764683e+01 -3.82520402e+00  3.97808729e+00\n",
      "  -2.49568310e+01  1.86462535e+01  1.46321143e+01 -5.93777490e+00\n",
      "   3.38350896e+01  1.17153335e+01]\n",
      " [ 6.87695477e-01  3.31150047e+01  4.61393521e+00  1.21196531e+00\n",
      "   2.75738626e+01 -2.19243363e+01 -1.71151919e+01  7.07880912e+00\n",
      "  -3.62076617e+01 -1.15440332e+01]\n",
      " [-2.08399693e+00 -2.86211262e+01 -3.88776322e+00  5.40253709e-01\n",
      "  -2.46749962e+01  1.88852465e+01  1.23314345e+01 -5.57751110e+00\n",
      "   3.12819092e+01  1.20800586e+01]\n",
      " [ 2.45186048e+00  4.23188234e+01  6.71285447e+00 -3.28367870e+00\n",
      "   3.37360053e+01 -2.63283590e+01 -1.78825558e+01  9.42303771e+00\n",
      "  -4.51318707e+01 -1.70387081e+01]\n",
      " [-4.06798202e+00 -4.82091969e+01 -6.68188777e+00  3.40778970e+00\n",
      "  -3.92134309e+01  3.27926132e+01  1.87411859e+01 -1.04803207e+01\n",
      "   5.28543430e+01  1.85175976e+01]]\n"
     ]
    }
   ],
   "source": [
    "import numpy as np\n",
    "import time\n",
    "\n",
    "start = time.time()\n",
    "\n",
    "A = np.random.rand(10, 10)\n",
    "B = np.random.rand(10, 10)\n",
    "\n",
    "# Matrix multiplication\n",
    "result = np.matmul(A, B)\n",
    "print(\"Matrix shape:\", result.shape)\n",
    "\n",
    "# Determinant\n",
    "det = np.linalg.det(result)\n",
    "print(\"Determinant:\", det)\n",
    "\n",
    "# Inverse\n",
    "inv = np.linalg.inv(result)\n",
    "print(inv)\n",
    "\n",
    "end = time.time()\n",
    "\n"
   ]
  },
  {
   "cell_type": "code",
   "execution_count": 40,
   "id": "c6ce260a-606d-4f26-8a38-3fd592ccdddd",
   "metadata": {},
   "outputs": [],
   "source": [
    "# Task 8 > Time cal"
   ]
  },
  {
   "cell_type": "code",
   "execution_count": 41,
   "id": "71738b5e-6422-4076-9fd2-355dfe722c53",
   "metadata": {},
   "outputs": [
    {
     "name": "stdout",
     "output_type": "stream",
     "text": [
      "Time: 0.013076066970825195 sec\n"
     ]
    }
   ],
   "source": [
    "print(\"Time:\", end - start, \"sec\")"
   ]
  },
  {
   "cell_type": "code",
   "execution_count": null,
   "id": "42989631-f597-4f7f-84cc-69a7a659b5e0",
   "metadata": {},
   "outputs": [],
   "source": []
  }
 ],
 "metadata": {
  "kernelspec": {
   "display_name": "Python 3 (ipykernel)",
   "language": "python",
   "name": "python3"
  },
  "language_info": {
   "codemirror_mode": {
    "name": "ipython",
    "version": 3
   },
   "file_extension": ".py",
   "mimetype": "text/x-python",
   "name": "python",
   "nbconvert_exporter": "python",
   "pygments_lexer": "ipython3",
   "version": "3.11.4"
  }
 },
 "nbformat": 4,
 "nbformat_minor": 5
}
