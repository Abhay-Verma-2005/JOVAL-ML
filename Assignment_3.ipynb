{
 "cells": [
  {
   "cell_type": "code",
   "execution_count": 2,
   "id": "877db571-7f90-4637-974b-4e71c2b3b327",
   "metadata": {},
   "outputs": [
    {
     "name": "stdout",
     "output_type": "stream",
     "text": [
      "vvvvdf\n"
     ]
    }
   ],
   "source": [
    "print(\"vvvvdf\")"
   ]
  },
  {
   "cell_type": "code",
   "execution_count": null,
   "id": "6837c7fa-f066-450f-8e2e-d8371b834519",
   "metadata": {},
   "outputs": [
    {
     "name": "stdout",
     "output_type": "stream",
     "text": [
      "P    15\n",
      "Q    28\n",
      "R    33\n",
      "dtype: int64\n",
      "Mean: 35.0\n",
      "Median: 33.0\n",
      "Standard Deviation: 14.882876066137216\n"
     ]
    }
   ],
   "source": [
    "import pandas as pd\n",
    "\n",
    "\n",
    "data = [15, 28, 33, 47, 52]\n",
    "series = pd.Series(data, index=['P', 'Q', 'R', 'S', 'T'])\n",
    "\n",
    "\n",
    "print(series.head(3))\n",
    "\n",
    "\n",
    "print(\"Mean:\", series.mean())\n",
    "print(\"Median:\", series.median())\n",
    "print(\"Standard Deviation:\", series.std())\n"
   ]
  },
  {
   "cell_type": "code",
   "execution_count": null,
   "id": "508b5beb-b789-4f40-8f03-7f49faf9b94d",
   "metadata": {},
   "outputs": [
    {
     "name": "stdout",
     "output_type": "stream",
     "text": [
      "   Name  Age  Gender  Marks\n",
      "0  John   23    Male     76\n",
      "1  Lily   21  Female     88\n",
      "['Name', 'Age', 'Gender', 'Marks']\n",
      "Name      object\n",
      "Age        int64\n",
      "Gender    object\n",
      "Marks      int64\n",
      "dtype: object\n",
      "\n",
      "Summary Statistics:\n",
      "             Age      Marks\n",
      "count   5.000000   5.000000\n",
      "mean   22.000000  81.200000\n",
      "std     1.581139   9.731393\n",
      "min    20.000000  67.000000\n",
      "25%    21.000000  76.000000\n",
      "50%    22.000000  84.000000\n",
      "75%    23.000000  88.000000\n",
      "max    24.000000  91.000000\n",
      "     Name  Age  Gender  Marks  Passed\n",
      "0    John   23    Male     76    True\n",
      "1    Lily   21  Female     88    True\n",
      "2    Mark   20    Male     67   False\n",
      "3  Sophia   22  Female     91    True\n",
      "4    Ravi   24    Male     84    True\n"
     ]
    }
   ],
   "source": [
    "import pandas as pd\n",
    "\n",
    "data = pd.DataFrame({\n",
    "    'Name': ['John', 'Lily', 'Mark', 'Sophia', 'Ravi'],\n",
    "    'Age': [23, 21, 20, 22, 24],\n",
    "    'Gender': ['Male', 'Female', 'Male', 'Female', 'Male'],\n",
    "    'Marks': [76, 88, 67, 91, 84]\n",
    "})\n",
    "\n",
    "print(data.head(2))\n",
    "\n",
    "print(data.columns.tolist())\n",
    "print(data.dtypes)\n",
    "print(\"\\nSummary Statistics:\")\n",
    "print(data.describe())\n",
    "\n",
    "data['Passed'] = data['Marks'] >= 75\n",
    "print(data)\n"
   ]
  },
  {
   "cell_type": "code",
   "execution_count": 7,
   "id": "1e1fc7c1",
   "metadata": {},
   "outputs": [
    {
     "name": "stdout",
     "output_type": "stream",
     "text": [
      "\n",
      "     Name  Marks\n",
      "0    John     76\n",
      "1    Lily     88\n",
      "2    Mark     67\n",
      "3  Sophia     91\n",
      "4    Ravi     84\n",
      "\n",
      "     Name  Age  Gender  Marks\n",
      "1    Lily   21  Female     88\n",
      "3  Sophia   22  Female     91\n",
      "4    Ravi   24    Male     84\n",
      "\n",
      "     Name  Age  Gender  Marks\n",
      "3  Sophia   22  Female     91\n"
     ]
    }
   ],
   "source": [
    "import pandas as pd\n",
    "\n",
    "data = pd.DataFrame({\n",
    "    'Name': ['John', 'Lily', 'Mark', 'Sophia', 'Ravi'],\n",
    "    'Age': [23, 21, 20, 22, 24],\n",
    "    'Gender': ['Male', 'Female', 'Male', 'Female', 'Male'],\n",
    "    'Marks': [76, 88, 67, 91, 84]\n",
    "})\n",
    "print()\n",
    "print(data[['Name', 'Marks']])\n",
    "\n",
    "# B. Filter Marks > 80\n",
    "print()\n",
    "print(data[data['Marks'] > 80])\n",
    "\n",
    "# C. Record with highest marks\n",
    "print()\n",
    "print(data[data['Marks'] == data['Marks'].max()])\n"
   ]
  },
  {
   "cell_type": "code",
   "execution_count": 8,
   "id": "27cea63b",
   "metadata": {},
   "outputs": [
    {
     "name": "stdout",
     "output_type": "stream",
     "text": [
      "\n",
      "    Name    Age  Gender  Marks\n",
      "0  False  False   False  False\n",
      "1  False  False   False   True\n",
      "2  False  False   False  False\n",
      "3  False  False   False  False\n",
      "4  False   True   False  False\n",
      "\n",
      "0    76.0\n",
      "1    79.5\n",
      "2    67.0\n",
      "3    91.0\n",
      "4    84.0\n",
      "Name: Marks, dtype: float64\n",
      "\n",
      "     Name   Age  Gender  Marks\n",
      "0    John  23.0    Male   76.0\n",
      "1    Lily  21.0  Female   79.5\n",
      "2    Mark  20.0    Male   67.0\n",
      "3  Sophia  22.0  Female   91.0\n"
     ]
    }
   ],
   "source": [
    "import pandas as pd\n",
    "\n",
    "data = pd.DataFrame({\n",
    "    'Name': ['John', 'Lily', 'Mark', 'Sophia', 'Ravi'],\n",
    "    'Age': [23.0, 21.0, 20.0, 22.0, None],\n",
    "    'Gender': ['Male', 'Female', 'Male', 'Female', 'Male'],\n",
    "    'Marks': [76.0, None, 67.0, 91.0, 84.0]\n",
    "})\n",
    "print()\n",
    "print(data.isnull())\n",
    "\n",
    "print()\n",
    "data['Marks'] = data['Marks'].fillna(data['Marks'].mean())\n",
    "print(data['Marks'])\n",
    "\n",
    "print()\n",
    "data_cleaned = data.dropna(subset=['Age'])\n",
    "print(data_cleaned)\n"
   ]
  },
  {
   "cell_type": "code",
   "execution_count": 9,
   "id": "a2964e09",
   "metadata": {},
   "outputs": [
    {
     "name": "stdout",
     "output_type": "stream",
     "text": [
      "              Age      Marks\n",
      "Gender                      \n",
      "Female  21.500000  89.500000\n",
      "Male    22.333333  75.666667\n",
      "Gender\n",
      "Male      3\n",
      "Female    2\n",
      "Name: count, dtype: int64\n"
     ]
    }
   ],
   "source": [
    "import pandas as pd\n",
    "\n",
    "data = pd.DataFrame({\n",
    "    'Name': ['John', 'Lily', 'Mark', 'Sophia', 'Ravi'],\n",
    "    'Age': [23, 21, 20, 22, 24],\n",
    "    'Gender': ['Male', 'Female', 'Male', 'Female', 'Male'],\n",
    "    'Marks': [76, 88, 67, 91, 84]\n",
    "})\n",
    "\n",
    "gender_group = data.groupby('Gender')\n",
    "gender_avg = gender_group[['Age', 'Marks']].mean()\n",
    "print(gender_avg)\n",
    "\n",
    "print(data['Gender'].value_counts())\n"
   ]
  },
  {
   "cell_type": "code",
   "execution_count": 10,
   "id": "3957d51e",
   "metadata": {},
   "outputs": [
    {
     "name": "stdout",
     "output_type": "stream",
     "text": [
      "     Name  Age  Gender  Marks\n",
      "0    John   23    Male     76\n",
      "1    Lily   21  Female     88\n",
      "2    Mark   20    Male     67\n",
      "3  Sophia   22  Female     91\n",
      "4    Ravi   24    Male     84\n"
     ]
    }
   ],
   "source": [
    "import pandas as pd\n",
    "\n",
    "data = pd.DataFrame({\n",
    "    'Name': ['John', 'Lily', 'Mark', 'Sophia', 'Ravi'],\n",
    "    'Age': [23, 21, 20, 22, 24],\n",
    "    'Gender': ['Male', 'Female', 'Male', 'Female', 'Male'],\n",
    "    'Marks': [76, 88, 67, 91, 84]\n",
    "})\n",
    "\n",
    "data.to_csv(\"student_records.csv\", index=False)\n",
    "\n",
    "df_new = pd.read_csv(\"student_records.csv\")\n",
    "\n",
    "print(df_new.head())\n"
   ]
  },
  {
   "cell_type": "code",
   "execution_count": 14,
   "id": "f1989d36",
   "metadata": {},
   "outputs": [
    {
     "name": "stdout",
     "output_type": "stream",
     "text": [
      "🔹 First 5 rows:\n",
      "      Name  Age  Gender  Marks\n",
      "0    John   23    Male     76\n",
      "1    Lily   21  Female     88\n",
      "2    Mark   20    Male     67\n",
      "3  Sophia   22  Female     91\n",
      "4    Ravi   24    Male     84 \n",
      "\n",
      "🔹 Description:\n",
      "              Age      Marks\n",
      "count   5.000000   5.000000\n",
      "mean   22.000000  81.200000\n",
      "std     1.581139   9.731393\n",
      "min    20.000000  67.000000\n",
      "25%    21.000000  76.000000\n",
      "50%    22.000000  84.000000\n",
      "75%    23.000000  88.000000\n",
      "max    24.000000  91.000000 \n",
      "\n",
      "🔹 Info:\n",
      "<class 'pandas.core.frame.DataFrame'>\n",
      "RangeIndex: 5 entries, 0 to 4\n",
      "Data columns (total 4 columns):\n",
      " #   Column  Non-Null Count  Dtype \n",
      "---  ------  --------------  ----- \n",
      " 0   Name    5 non-null      object\n",
      " 1   Age     5 non-null      int64 \n",
      " 2   Gender  5 non-null      object\n",
      " 3   Marks   5 non-null      int64 \n",
      "dtypes: int64(2), object(2)\n",
      "memory usage: 292.0+ bytes\n",
      "\n",
      "🔹 Null values:\n",
      " Name      0\n",
      "Age       0\n",
      "Gender    0\n",
      "Marks     0\n",
      "dtype: int64 \n",
      "\n"
     ]
    },
    {
     "data": {
      "image/png": "[encoded data removed]",
      "text/plain": [
       "<Figure size 800x500 with 1 Axes>"
      ]
     },
     "metadata": {},
     "output_type": "display_data"
    },
    {
     "data": {
      "image/png": "[encoded data removed]",
      "text/plain": [
       "<Figure size 600x400 with 2 Axes>"
      ]
     },
     "metadata": {},
     "output_type": "display_data"
    }
   ],
   "source": [
    "import pandas as pd\n",
    "import seaborn as sns\n",
    "import matplotlib.pyplot as plt\n",
    "\n",
    "data = pd.DataFrame({\n",
    "    'Name': ['John', 'Lily', 'Mark', 'Sophia', 'Ravi'],\n",
    "    'Age': [23, 21, 20, 22, 24],\n",
    "    'Gender': ['Male', 'Female', 'Male', 'Female', 'Male'],\n",
    "    'Marks': [76, 88, 67, 91, 84]\n",
    "})\n",
    "\n",
    "data.to_csv(\"student_records.csv\", index=False)\n",
    "\n",
    "student_data = pd.read_csv('student_records.csv')\n",
    "\n",
    "print(\"🔹 First 5 rows:\\n\", student_data.head(), \"\\n\")\n",
    "print(\"🔹 Description:\\n\", student_data.describe(), \"\\n\")\n",
    "print(\"🔹 Info:\")\n",
    "student_data.info()\n",
    "print(\"\\n🔹 Null values:\\n\", student_data.isnull().sum(), \"\\n\")\n",
    "\n",
    "plt.figure(figsize=(8, 5))\n",
    "sns.histplot(student_data['Marks'], bins=10, kde=True, color='skyblue')\n",
    "plt.title('Student Marks Distribution')\n",
    "plt.xlabel('Marks')\n",
    "plt.ylabel('Number of Students')\n",
    "plt.show()\n",
    "\n",
    "plt.figure(figsize=(6, 4))\n",
    "sns.heatmap(student_data.corr(numeric_only=True), annot=True, cmap='coolwarm', fmt='.2f')\n",
    "plt.title('Correlation Matrix')\n",
    "plt.show()\n"
   ]
  }
 ],
 "metadata": {
  "kernelspec": {
   "display_name": "Python 3",
   "language": "python",
   "name": "python3"
  },
  "language_info": {
   "codemirror_mode": {
    "name": "ipython",
    "version": 3
   },
   "file_extension": ".py",
   "mimetype": "text/x-python",
   "name": "python",
   "nbconvert_exporter": "python",
   "pygments_lexer": "ipython3",
   "version": "3.12.3"
  }
 },
 "nbformat": 4,
 "nbformat_minor": 5
}
