{
 "cells": [
  {
   "cell_type": "code",
   "execution_count": 1,
   "id": "b7592425-5f1d-4071-b740-050a4262ea35",
   "metadata": {},
   "outputs": [],
   "source": [
    "class InvalidInputError(Exception):\n",
    "    def __init__(self, message=\"Invalid input!\"):\n",
    "        super().__init__(message)\n",
    "\n",
    "def divide_numbers(a, b):\n",
    "    try:\n",
    "        if not isinstance(a, (int, float)) or not isinstance(b, (int, float)):\n",
    "            raise InvalidInputError(\"Inputs must be numbers.\")\n",
    "        result = a / b\n",
    "    except InvalidInputError as e:\n",
    "        print(\"Custom:\", e)\n",
    "        raise\n",
    "    except ZeroDivisionError:\n",
    "        print(\"ZeroDivision\")\n",
    "    else:\n",
    "        print(\"Result:\", result)\n",
    "    finally:\n",
    "        print(\"Done\")\n"
   ]
  },
  {
   "cell_type": "code",
   "execution_count": 2,
   "id": "2ca03dcd-07b3-45bd-8f14-7baa0a1fc0e8",
   "metadata": {},
   "outputs": [
    {
     "name": "stdout",
     "output_type": "stream",
     "text": [
      "Result: 5.0\n",
      "Done\n",
      "---\n",
      "ZeroDivision\n",
      "Done\n",
      "---\n",
      "Result: 3.3333333333333335\n",
      "Done\n",
      "---\n",
      "Custom: Inputs must be numbers.\n",
      "Done\n"
     ]
    },
    {
     "ename": "InvalidInputError",
     "evalue": "Inputs must be numbers.",
     "output_type": "error",
     "traceback": [
      "\u001b[1;31m---------------------------------------------------------------------------\u001b[0m",
      "\u001b[1;31mInvalidInputError\u001b[0m                         Traceback (most recent call last)",
      "Cell \u001b[1;32mIn[2], line 7\u001b[0m\n\u001b[0;32m      5\u001b[0m divide_numbers(\u001b[38;5;241m10\u001b[39m, \u001b[38;5;241m3.0\u001b[39m)\n\u001b[0;32m      6\u001b[0m \u001b[38;5;28mprint\u001b[39m(\u001b[38;5;124m\"\u001b[39m\u001b[38;5;124m---\u001b[39m\u001b[38;5;124m\"\u001b[39m)\n\u001b[1;32m----> 7\u001b[0m \u001b[43mdivide_numbers\u001b[49m\u001b[43m(\u001b[49m\u001b[38;5;241;43m10\u001b[39;49m\u001b[43m,\u001b[49m\u001b[43m \u001b[49m\u001b[38;5;124;43m'\u001b[39;49m\u001b[38;5;124;43ma\u001b[39;49m\u001b[38;5;124;43m'\u001b[39;49m\u001b[43m)\u001b[49m\n",
      "Cell \u001b[1;32mIn[1], line 8\u001b[0m, in \u001b[0;36mdivide_numbers\u001b[1;34m(a, b)\u001b[0m\n\u001b[0;32m      6\u001b[0m \u001b[38;5;28;01mtry\u001b[39;00m:\n\u001b[0;32m      7\u001b[0m     \u001b[38;5;28;01mif\u001b[39;00m \u001b[38;5;129;01mnot\u001b[39;00m \u001b[38;5;28misinstance\u001b[39m(a, (\u001b[38;5;28mint\u001b[39m, \u001b[38;5;28mfloat\u001b[39m)) \u001b[38;5;129;01mor\u001b[39;00m \u001b[38;5;129;01mnot\u001b[39;00m \u001b[38;5;28misinstance\u001b[39m(b, (\u001b[38;5;28mint\u001b[39m, \u001b[38;5;28mfloat\u001b[39m)):\n\u001b[1;32m----> 8\u001b[0m         \u001b[38;5;28;01mraise\u001b[39;00m InvalidInputError(\u001b[38;5;124m\"\u001b[39m\u001b[38;5;124mInputs must be numbers.\u001b[39m\u001b[38;5;124m\"\u001b[39m)\n\u001b[0;32m      9\u001b[0m     result \u001b[38;5;241m=\u001b[39m a \u001b[38;5;241m/\u001b[39m b\n\u001b[0;32m     10\u001b[0m \u001b[38;5;28;01mexcept\u001b[39;00m InvalidInputError \u001b[38;5;28;01mas\u001b[39;00m e:\n",
      "\u001b[1;31mInvalidInputError\u001b[0m: Inputs must be numbers."
     ]
    }
   ],
   "source": [
    "divide_numbers(10, 2)    \n",
    "print(\"---\")\n",
    "divide_numbers(10, 0)  \n",
    "print(\"---\")\n",
    "divide_numbers(10, 3.0)\n",
    "print(\"---\")\n",
    "divide_numbers(10, 'a')\n",
    "\n"
   ]
  },
  {
   "cell_type": "code",
   "execution_count": 3,
   "id": "7f5c7b25-41bb-4d0a-93c4-b0a5cd4689f1",
   "metadata": {},
   "outputs": [],
   "source": [
    "import numpy as np\n",
    "\n",
    "data_2d = np.array([\n",
    "    [1, 2, 3],\n",
    "    [4, 5, 6],\n",
    "    [7, 8, 9]\n",
    "])\n"
   ]
  },
  {
   "cell_type": "code",
   "execution_count": 4,
   "id": "a5379186-ceed-459f-82bd-fb4fe28762c7",
   "metadata": {},
   "outputs": [],
   "source": [
    "np.savetxt(\"my_array.csv\", data_2d, delimiter=\",\", fmt=\"%d\")"
   ]
  },
  {
   "cell_type": "code",
   "execution_count": 5,
   "id": "056ad74f-f907-458f-ad72-1b02fc4f2a94",
   "metadata": {},
   "outputs": [
    {
     "data": {
      "text/plain": [
       "array([[1., 2., 3.],\n",
       "       [4., 5., 6.],\n",
       "       [7., 8., 9.]])"
      ]
     },
     "execution_count": 5,
     "metadata": {},
     "output_type": "execute_result"
    }
   ],
   "source": [
    "loaded_data = np.loadtxt(\"my_array.csv\", delimiter=\",\")\n",
    "loaded_data\n"
   ]
  },
  {
   "cell_type": "code",
   "execution_count": null,
   "id": "e64d3946-9b27-40e7-974c-61d5a578caa6",
   "metadata": {},
   "outputs": [],
   "source": []
  }
 ],
 "metadata": {
  "kernelspec": {
   "display_name": "Python 3 (ipykernel)",
   "language": "python",
   "name": "python3"
  },
  "language_info": {
   "codemirror_mode": {
    "name": "ipython",
    "version": 3
   },
   "file_extension": ".py",
   "mimetype": "text/x-python",
   "name": "python",
   "nbconvert_exporter": "python",
   "pygments_lexer": "ipython3",
   "version": "3.11.4"
  }
 },
 "nbformat": 4,
 "nbformat_minor": 5
}
